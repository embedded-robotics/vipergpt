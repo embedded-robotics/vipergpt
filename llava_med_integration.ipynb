{
 "cells": [
  {
   "cell_type": "code",
   "execution_count": null,
   "metadata": {},
   "outputs": [],
   "source": [
    "from main_simple_lib import *"
   ]
  },
  {
   "cell_type": "code",
   "execution_count": null,
   "metadata": {},
   "outputs": [],
   "source": [
    "import pickle\n",
    "img_train_path = \"/data/mn27889/pvqa/images/test/\"\n",
    "qas_train_path = \"/data/mn27889/pvqa/qas/test/test_qa.pkl\"\n",
    "\n",
    "with open(qas_train_path, 'rb') as file:\n",
    "    pvqa_qas = pickle.load(file)"
   ]
  },
  {
   "cell_type": "code",
   "execution_count": null,
   "metadata": {},
   "outputs": [],
   "source": [
    "qas_yes_no = [qas for qas in pvqa_qas if qas['answer'] == 'yes' or qas['answer'] == 'no']\n",
    "ques_yes_no = [qas['question'] for qas in qas_yes_no]\n",
    "ans_yes_no = [qas['answer'] for qas in qas_yes_no]\n",
    "img_yes_no = [qas['image']  for qas in qas_yes_no]\n",
    "img_yes_no_path = [img_train_path + qas['image'] + '.jpg' for qas in qas_yes_no]"
   ]
  },
  {
   "cell_type": "code",
   "execution_count": null,
   "metadata": {},
   "outputs": [],
   "source": [
    "qas_general = [qas for qas in pvqa_qas if qas['answer'] != 'yes' and qas['answer'] != 'no']\n",
    "ques_general = [qas['question'] for qas in qas_general]\n",
    "ans_general = [qas['answer'] for qas in qas_general]\n",
    "img_general = [qas['image']  for qas in qas_general]\n",
    "img_general_path = [img_train_path + qas['image'] + '.jpg' for qas in qas_general]"
   ]
  },
  {
   "cell_type": "code",
   "execution_count": null,
   "metadata": {},
   "outputs": [],
   "source": [
    "# for i, img in enumerate(img_general):\n",
    "#     if img == \"test_0013\":\n",
    "#         print(i)"
   ]
  },
  {
   "cell_type": "markdown",
   "metadata": {},
   "source": [
    "### For a Pathology Image"
   ]
  },
  {
   "cell_type": "code",
   "execution_count": null,
   "metadata": {},
   "outputs": [],
   "source": [
    "idx = 161\n",
    "query = ques_general[idx]\n",
    "query_ans = ans_general[idx]\n",
    "query_img = Image.open(img_general_path[idx]).convert(mode=\"RGB\")\n",
    "print(query)\n",
    "print(query_ans)\n",
    "query_img"
   ]
  },
  {
   "cell_type": "code",
   "execution_count": null,
   "metadata": {},
   "outputs": [],
   "source": [
    "img_patch = ImagePatch(image=query_img)\n",
    "# a = img_patch.find_histo_patches()\n",
    "ans = img_patch.llava_med_query(query)\n",
    "print(ans)"
   ]
  },
  {
   "cell_type": "code",
   "execution_count": null,
   "metadata": {},
   "outputs": [],
   "source": [
    "a[0].cropped_image"
   ]
  },
  {
   "cell_type": "code",
   "execution_count": null,
   "metadata": {},
   "outputs": [],
   "source": [
    "a[1].cropped_image"
   ]
  },
  {
   "cell_type": "code",
   "execution_count": null,
   "metadata": {},
   "outputs": [],
   "source": [
    "a[2].cropped_image"
   ]
  },
  {
   "cell_type": "markdown",
   "metadata": {},
   "source": [
    "### For a Non-Pathology Image"
   ]
  },
  {
   "cell_type": "code",
   "execution_count": null,
   "metadata": {},
   "outputs": [],
   "source": [
    "idx = 391\n",
    "query = ques_general[idx]\n",
    "query_ans = ans_general[idx]\n",
    "query_img = Image.open(img_general_path[idx]).convert(mode=\"RGB\")\n",
    "print(query)\n",
    "print(query_ans)\n",
    "query_img"
   ]
  },
  {
   "cell_type": "code",
   "execution_count": null,
   "metadata": {},
   "outputs": [],
   "source": [
    "img_patch = ImagePatch(image=query_img)\n",
    "a = img_patch.find_histo_patches()\n",
    "print(a)"
   ]
  },
  {
   "cell_type": "code",
   "execution_count": null,
   "metadata": {},
   "outputs": [],
   "source": [
    "a[0].cropped_image"
   ]
  },
  {
   "cell_type": "code",
   "execution_count": null,
   "metadata": {},
   "outputs": [],
   "source": []
  }
 ],
 "metadata": {
  "kernelspec": {
   "display_name": "vipergpt",
   "language": "python",
   "name": "python3"
  },
  "language_info": {
   "codemirror_mode": {
    "name": "ipython",
    "version": 3
   },
   "file_extension": ".py",
   "mimetype": "text/x-python",
   "name": "python",
   "nbconvert_exporter": "python",
   "pygments_lexer": "ipython3",
   "version": "3.10.13"
  }
 },
 "nbformat": 4,
 "nbformat_minor": 2
}
